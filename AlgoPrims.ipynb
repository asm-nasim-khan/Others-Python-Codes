{
 "cells": [
  {
   "cell_type": "code",
   "execution_count": 5,
   "id": "7fdfd1a6",
   "metadata": {},
   "outputs": [
    {
     "name": "stdout",
     "output_type": "stream",
     "text": [
      "How many Shops? 7\n",
      "enter data:3 4 14 5 5 12 1 4 5 5 5 10 1 2 11\n"
     ]
    },
    {
     "ename": "IndexError",
     "evalue": "index out of range",
     "output_type": "error",
     "traceback": [
      "\u001b[1;31m---------------------------------------------------------------------------\u001b[0m",
      "\u001b[1;31mIndexError\u001b[0m                                Traceback (most recent call last)",
      "\u001b[1;32m~\\AppData\\Local\\Temp/ipykernel_16488/3014071665.py\u001b[0m in \u001b[0;36m<module>\u001b[1;34m\u001b[0m\n\u001b[0;32m     21\u001b[0m         \u001b[1;32mif\u001b[0m \u001b[0mlen\u001b[0m\u001b[1;33m(\u001b[0m\u001b[0medges\u001b[0m\u001b[1;33m[\u001b[0m\u001b[0mvertexWithSmallestEdge\u001b[0m\u001b[1;33m]\u001b[0m\u001b[1;33m)\u001b[0m \u001b[1;33m==\u001b[0m \u001b[1;36m0\u001b[0m \u001b[1;32mor\u001b[0m \u001b[0medges\u001b[0m\u001b[1;33m[\u001b[0m\u001b[0mvertex\u001b[0m\u001b[1;33m]\u001b[0m\u001b[1;33m[\u001b[0m\u001b[1;36m0\u001b[0m\u001b[1;33m]\u001b[0m\u001b[1;33m[\u001b[0m\u001b[0mcost\u001b[0m\u001b[1;33m]\u001b[0m\u001b[1;33m<\u001b[0m \u001b[0medges\u001b[0m \u001b[1;33m[\u001b[0m\u001b[0mvertexWithSmallestEdge\u001b[0m\u001b[1;33m]\u001b[0m\u001b[1;33m[\u001b[0m\u001b[1;36m0\u001b[0m\u001b[1;33m]\u001b[0m\u001b[1;33m[\u001b[0m\u001b[0mcost\u001b[0m\u001b[1;33m]\u001b[0m\u001b[1;33m:\u001b[0m\u001b[1;33m\u001b[0m\u001b[1;33m\u001b[0m\u001b[0m\n\u001b[0;32m     22\u001b[0m             \u001b[0mvertexWithSmallestEdge\u001b[0m \u001b[1;33m=\u001b[0m \u001b[0mvertex\u001b[0m\u001b[1;33m\u001b[0m\u001b[1;33m\u001b[0m\u001b[0m\n\u001b[1;32m---> 23\u001b[1;33m     \u001b[0medge\u001b[0m \u001b[1;33m=\u001b[0m \u001b[0mheapq\u001b[0m\u001b[1;33m.\u001b[0m\u001b[0mheappop\u001b[0m\u001b[1;33m(\u001b[0m\u001b[0medges\u001b[0m\u001b[1;33m[\u001b[0m\u001b[0mvertexWithSmallestEdge\u001b[0m\u001b[1;33m]\u001b[0m\u001b[1;33m)\u001b[0m\u001b[1;33m\u001b[0m\u001b[1;33m\u001b[0m\u001b[0m\n\u001b[0m\u001b[0;32m     24\u001b[0m     \u001b[0mmst\u001b[0m\u001b[1;33m.\u001b[0m\u001b[0mappend\u001b[0m\u001b[1;33m(\u001b[0m\u001b[1;33m(\u001b[0m\u001b[0mvertexWithSmallestEdge\u001b[0m\u001b[1;33m,\u001b[0m \u001b[0medge\u001b[0m\u001b[1;33m[\u001b[0m\u001b[0mdest\u001b[0m\u001b[1;33m]\u001b[0m\u001b[1;33m,\u001b[0m \u001b[0medge\u001b[0m\u001b[1;33m[\u001b[0m\u001b[0mcost\u001b[0m\u001b[1;33m]\u001b[0m\u001b[1;33m)\u001b[0m\u001b[1;33m)\u001b[0m \u001b[1;31m#dest = destination cost = weight\u001b[0m\u001b[1;33m\u001b[0m\u001b[1;33m\u001b[0m\u001b[0m\n\u001b[0;32m     25\u001b[0m     \u001b[0musedVertices\u001b[0m\u001b[1;33m.\u001b[0m\u001b[0madd\u001b[0m\u001b[1;33m(\u001b[0m\u001b[0mvertexWithSmallestEdge\u001b[0m\u001b[1;33m)\u001b[0m\u001b[1;33m\u001b[0m\u001b[1;33m\u001b[0m\u001b[0m\n",
      "\u001b[1;31mIndexError\u001b[0m: index out of range"
     ]
    }
   ],
   "source": [
    "import heapq\n",
    "mst = []\n",
    "usedVertices = set()\n",
    "numVertices = int(input('How many Shops? '))\n",
    "edges = [[] for j in range(numVertices+1)]\n",
    "data = input('enter data:')\n",
    "lines = data.split(' ')\n",
    "for i in range(0,len(lines),3):\n",
    "    tmp = lines[i:i+3] # 0----3 [0,1,2]\n",
    "    edge = tuple (map(int, tmp))\n",
    "    if edge[0] == edge[1]:continue\n",
    "    heapq.heappush(edges[edge[0]], (edge[2], edge[1]))\n",
    "    heapq.heappush(edges[edge[1]], (edge[2], edge[0]))\n",
    "cost, dest= 0, 1\n",
    "while len(usedVertices)< numVertices:\n",
    "    vertexWithSmallestEdge = 0\n",
    "    for vertex in usedVertices:\n",
    "        while len(edges [vertex]) > 0 and edges [vertex][0][dest] in usedVertices:\n",
    "            heapq.heappop (edges [vertex])\n",
    "        if len(edges[vertex]) == 0: continue\n",
    "        if len(edges[vertexWithSmallestEdge]) == 0 or edges[vertex][0][cost]< edges [vertexWithSmallestEdge][0][cost]:\n",
    "            vertexWithSmallestEdge = vertex\n",
    "    edge = heapq.heappop(edges[vertexWithSmallestEdge])\n",
    "    mst.append((vertexWithSmallestEdge, edge[dest], edge[cost])) #dest = destination cost = weight\n",
    "    usedVertices.add(vertexWithSmallestEdge)\n",
    "    usedVertices.add(edge[dest])\n",
    "print(mst)"
   ]
  }
 ],
 "metadata": {
  "kernelspec": {
   "display_name": "Python 3 (ipykernel)",
   "language": "python",
   "name": "python3"
  },
  "language_info": {
   "codemirror_mode": {
    "name": "ipython",
    "version": 3
   },
   "file_extension": ".py",
   "mimetype": "text/x-python",
   "name": "python",
   "nbconvert_exporter": "python",
   "pygments_lexer": "ipython3",
   "version": "3.9.7"
  }
 },
 "nbformat": 4,
 "nbformat_minor": 5
}
